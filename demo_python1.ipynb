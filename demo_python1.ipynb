{
 "cells": [
  {
   "cell_type": "code",
   "execution_count": 4,
   "id": "b8397298",
   "metadata": {},
   "outputs": [
    {
     "name": "stdout",
     "output_type": "stream",
     "text": [
      "Welcome to Learn Intel Python\n",
      "Execution_time in  micro seconds  : 1000.8811950683594\n"
     ]
    }
   ],
   "source": [
    "import time\n",
    "t0=time.time()  \n",
    "print(\"Welcome to Learn Intel Python\")\n",
    "p_time=time.time()-t0\n",
    "#print(\"Execution_time in   seconds  :\", p_time)\n",
    "print(\"Execution_time in  micro seconds  :\", p_time*1000000)"
   ]
  },
  {
   "cell_type": "code",
   "execution_count": 5,
   "id": "fcb9cca0",
   "metadata": {},
   "outputs": [
    {
     "name": "stdout",
     "output_type": "stream",
     "text": [
      "Python 3.9.10 :: Intel Corporation\n",
      " \n"
     ]
    }
   ],
   "source": [
    "!python --version "
   ]
  },
  {
   "cell_type": "code",
   "execution_count": null,
   "id": "cf23a091",
   "metadata": {},
   "outputs": [],
   "source": []
  }
 ],
 "metadata": {
  "kernelspec": {
   "display_name": "Python 3 (ipykernel)",
   "language": "python",
   "name": "python3"
  },
  "language_info": {
   "codemirror_mode": {
    "name": "ipython",
    "version": 3
   },
   "file_extension": ".py",
   "mimetype": "text/x-python",
   "name": "python",
   "nbconvert_exporter": "python",
   "pygments_lexer": "ipython3",
   "version": "3.9.12"
  }
 },
 "nbformat": 4,
 "nbformat_minor": 5
}
